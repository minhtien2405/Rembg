{
 "cells": [
  {
   "cell_type": "code",
   "execution_count": 4,
   "id": "633d7f8e",
   "metadata": {},
   "outputs": [
    {
     "data": {
      "text/plain": [
       "['__builtins__',\n",
       " '__cached__',\n",
       " '__doc__',\n",
       " '__file__',\n",
       " '__loader__',\n",
       " '__name__',\n",
       " '__package__',\n",
       " '__path__',\n",
       " '__spec__',\n",
       " '__version__',\n",
       " '_version',\n",
       " 'bg',\n",
       " 'remove',\n",
       " 'session_base',\n",
       " 'session_cloth',\n",
       " 'session_factory',\n",
       " 'session_simple']"
      ]
     },
     "execution_count": 4,
     "metadata": {},
     "output_type": "execute_result"
    }
   ],
   "source": [
    "import rembg\n",
    "dir(rembg)"
   ]
  },
  {
   "cell_type": "code",
   "execution_count": 12,
   "id": "434c80d9",
   "metadata": {},
   "outputs": [
    {
     "name": "stdout",
     "output_type": "stream",
     "text": [
      "['Callable', 'DECODERS', 'DEFAULT_STRATEGY', 'DecompressionBombError', 'DecompressionBombWarning', 'DeferredError', 'Dither', 'ENCODERS', 'EXTENSION', 'ElementTree', 'Exif', 'FILTERED', 'FIXED', 'HUFFMAN_ONLY', 'ID', 'Image', 'ImageMode', 'ImagePointHandler', 'ImageTransformHandler', 'IntEnum', 'MAX_IMAGE_PIXELS', 'MIME', 'MODES', 'MutableMapping', 'OPEN', 'Palette', 'Path', 'Quantize', 'RLE', 'Resampling', 'SAVE', 'SAVE_ALL', 'TiffTags', 'Transform', 'Transpose', 'USE_CFFI_ACCESS', 'UnidentifiedImageError', '_E', '_ENDIAN', '_MAPMODES', '__builtins__', '__cached__', '__doc__', '__file__', '__getattr__', '__loader__', '__name__', '__package__', '__spec__', '__version__', '_apply_env_variables', '_check_size', '_conv_type_shape', '_decompression_bomb_check', '_filters_support', '_fromarray_typemap', '_getdecoder', '_getencoder', '_getscaleoffset', '_initialized', '_plugins', '_show', '_wedge', 'alpha_composite', 'atexit', 'blend', 'builtins', 'cffi', 'coerce_e', 'composite', 'core', 'deprecate', 'effect_mandelbrot', 'effect_noise', 'eval', 'fromarray', 'frombuffer', 'frombytes', 'fromqimage', 'fromqpixmap', 'getmodebandnames', 'getmodebands', 'getmodebase', 'getmodetype', 'i32le', 'init', 'io', 'isImageType', 'is_path', 'linear_gradient', 'logger', 'logging', 'math', 'merge', 'new', 'o32be', 'o32le', 'open', 'os', 'preinit', 'radial_gradient', 're', 'register_decoder', 'register_encoder', 'register_extension', 'register_extensions', 'register_mime', 'register_open', 'register_save', 'register_save_all', 'registered_extensions', 'struct', 'sys', 'tempfile', 'warnings']\n"
     ]
    }
   ],
   "source": [
    "from rembg import remove\n",
    "from PIL import Image\n",
    "print(dir(Image))\n",
    "input_path = \"IMG_7200.jpg\"\n",
    "output_path = \"ouput.png\"\n",
    "input = Image.open(input_path)\n",
    "ouput = remove(input)\n",
    "ouput.save(output_path)"
   ]
  },
  {
   "cell_type": "code",
   "execution_count": null,
   "id": "8dcfe6ff",
   "metadata": {},
   "outputs": [],
   "source": []
  }
 ],
 "metadata": {
  "kernelspec": {
   "display_name": "Python 3 (ipykernel)",
   "language": "python",
   "name": "python3"
  },
  "language_info": {
   "codemirror_mode": {
    "name": "ipython",
    "version": 3
   },
   "file_extension": ".py",
   "mimetype": "text/x-python",
   "name": "python",
   "nbconvert_exporter": "python",
   "pygments_lexer": "ipython3",
   "version": "3.10.4"
  }
 },
 "nbformat": 4,
 "nbformat_minor": 5
}
